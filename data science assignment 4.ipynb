{
 "cells": [
  {
   "cell_type": "code",
   "execution_count": null,
   "metadata": {},
   "outputs": [],
   "source": [
    "Assignment 1.1"
   ]
  },
  {
   "cell_type": "code",
   "execution_count": 6,
   "metadata": {},
   "outputs": [
    {
     "name": "stdout",
     "output_type": "stream",
     "text": [
      "The area of the triangle is 9.807522622966516\n"
     ]
    }
   ],
   "source": [
    "class Triangle(): \n",
    "    def __init__(self,a,b,c): \n",
    "        self.a=a                                                        #side  of trngle\n",
    "        self.b=b                                                        #side  of trngle\n",
    "        self.c=c                                                        #side  of trngle\n",
    "    def val(self):\n",
    "        print(self.a,self.b,self.c)\n",
    "class Area(Triangle):                                                   # a class area which inherits from its parent class triangle\n",
    "    def __init__(self,*args,**kwargs): \n",
    "        super(Area,self).__init__(*args,**kwargs)\n",
    "    def findArea(self):                                                  #findArea() function finds area of triangle \n",
    "        s = (self.a + self.b + self.c) / 2                               #finding s\n",
    "        area = (s*(s-self.a)*(s-self.b)*(s-self.c)) ** 0.5               #calculating area\n",
    "        print('The area of the triangle is {}'.format(area))              #printing area\n",
    "        \n",
    "area = Area(5,5,9) \n",
    "area.findArea() \n",
    "\n",
    "        "
   ]
  },
  {
   "cell_type": "code",
   "execution_count": null,
   "metadata": {},
   "outputs": [],
   "source": [
    "Assignment 1.2"
   ]
  },
  {
   "cell_type": "code",
   "execution_count": null,
   "metadata": {},
   "outputs": [],
   "source": [
    "d=5 #assummed n equals 5\n",
    "def word(words_list):\n",
    "    a= []                       #empty list\n",
    "    for n in words_list:# iterating through each strings in the words_list\n",
    "        if(len(n)>d): #condition checking whtether  word is greater than lenth d \n",
    "            a.append(n)   #appending length and word to list a\n",
    "                        \n",
    "    return a             #returning word\n",
    "word([\"abc\",\"abcdefg\",\"a\",\"hdhjyui\",\"djhd\",\"amkli\"])"
   ]
  },
  {
   "cell_type": "code",
   "execution_count": null,
   "metadata": {},
   "outputs": [],
   "source": [
    "Assignment 2.1"
   ]
  },
  {
   "cell_type": "code",
   "execution_count": null,
   "metadata": {},
   "outputs": [],
   "source": [
    "def word(words_list):\n",
    "    a= []                       #empty list\n",
    "    for n in words_list:        # iterating through each strings in the words_list\n",
    "        a.append(len(n))   #appending length and word to list a\n",
    "                        \n",
    "    return a             "
   ]
  },
  {
   "cell_type": "code",
   "execution_count": null,
   "metadata": {},
   "outputs": [],
   "source": []
  },
  {
   "cell_type": "code",
   "execution_count": null,
   "metadata": {},
   "outputs": [],
   "source": [
    "Assignment 2.2"
   ]
  },
  {
   "cell_type": "code",
   "execution_count": null,
   "metadata": {},
   "outputs": [],
   "source": [
    "vowels=['a','e','i','o','u','A','E','I','O','U'] #list of all the vowel \n",
    "def word(words):\n",
    "    char=input(\"Enter a character:\")               #takes a character as input from the use       \n",
    "    for vow in vowels:                             #iterating through the vowel list\n",
    "        if(char==vow):                              #checking if input char matches to any vowel\n",
    "            return \"It is a vowel\"                 #return It is a vowel if condition is satisfied\n",
    "    return \"It is not vowel\"                        #return It is not a vowel if condition is satisfied\n",
    "\n",
    "word(vowels)"
   ]
  },
  {
   "cell_type": "code",
   "execution_count": null,
   "metadata": {},
   "outputs": [],
   "source": []
  },
  {
   "cell_type": "code",
   "execution_count": null,
   "metadata": {},
   "outputs": [],
   "source": []
  }
 ],
 "metadata": {
  "kernelspec": {
   "display_name": "Python 3",
   "language": "python",
   "name": "python3"
  },
  "language_info": {
   "codemirror_mode": {
    "name": "ipython",
    "version": 3
   },
   "file_extension": ".py",
   "mimetype": "text/x-python",
   "name": "python",
   "nbconvert_exporter": "python",
   "pygments_lexer": "ipython3",
   "version": "3.6.5"
  }
 },
 "nbformat": 4,
 "nbformat_minor": 2
}
